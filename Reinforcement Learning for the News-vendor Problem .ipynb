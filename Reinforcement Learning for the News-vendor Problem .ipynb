{
 "cells": [
  {
   "cell_type": "markdown",
   "metadata": {},
   "source": [
    "class called OrderQuantity, which contains an instance variable Q indicating the order quantity to be used when that instance is “pulled.” A “pull” consists of a simulation of one period of the newsvendor problem, which just means generating a random demand and calculating the resulting cost. The class should contain (at least) 3 methods:\n",
    "\n",
    "* an __init__() method that sets up the class and sets Q and any other necessary instance variables\n",
    "\n",
    "* pull(), which performs a random “pull” and returns the reward (negative of the cost)\n",
    "\n",
    "* update(), which updates the estimate of the mean reward\n"
   ]
  },
  {
   "cell_type": "markdown",
   "metadata": {},
   "source": [
    "$S^∗=μ+z_ασ$\n",
    "\n",
    "$z_α=Φ^{−1}$\n",
    " is the $α-quantile$ of the standard normal distribution and $α=\\dfrac{p}{p+h}$\n"
   ]
  },
  {
   "cell_type": "markdown",
   "metadata": {},
   "source": [
    "Implement the following explore–exploit methods, and write code to test the ability of each one to find the best order quantity (from among a set of OrderQuantity instances) for a given instance of the newsvendor problem, i.e., for a given demand probability distribution and given values of the holding and stockout costs:\n",
    "\n",
    "* epsilon-greedy with ε = 0.1\n",
    "* decaying epsilon\n",
    "* optimistic initial values\n",
    "* UCB1\n",
    "* Bayesian sampling\n",
    "\n",
    "Experiment: Test each of your explore–exploit methods on a newsvendor instance in which the holding and stockout costs are 1 and 20, respectively, and the demand comes from a normal distribution with a mean of 20 and a standard deviation of 4. Use the following order quantities: 15, 20, 25, 30, 35. \n",
    "\n",
    "For each method, plot the running count of each order quantity. That is, plot the number of times that each order quantity is “pulled” versus the training period. Also plot a comparison of the running average reward versus the training period for all 5 methods (on the same graph).\n",
    "\n",
    "Note: For the newsvendor instance described above, here are the expected costs per period for the five order quantities listed above:\n",
    "\n",
    "* Q = 15: 104.2493\n",
    "* Q = 20: 33.5112\n",
    "* Q = 25: 9.2493\n",
    "* Q = 30: 10.1683   \n",
    "* Q = 35: 15.0018\n",
    "\n",
    "(These costs were calculated analytically, from the theory, not from experimentation.)\n"
   ]
  },
  {
   "cell_type": "code",
   "execution_count": 10,
   "metadata": {},
   "outputs": [],
   "source": []
  },
  {
   "cell_type": "markdown",
   "metadata": {},
   "source": [
    "## News vendor Problem with reinforecment learning"
   ]
  },
  {
   "cell_type": "code",
   "execution_count": 20,
   "metadata": {},
   "outputs": [
    {
     "ename": "SyntaxError",
     "evalue": "invalid syntax (<ipython-input-20-f20361b00509>, line 17)",
     "output_type": "error",
     "traceback": [
      "\u001b[1;36m  File \u001b[1;32m\"<ipython-input-20-f20361b00509>\"\u001b[1;36m, line \u001b[1;32m17\u001b[0m\n\u001b[1;33m    if self.Q < estimate  else holding_cost* (self.Q-estimate)\u001b[0m\n\u001b[1;37m                             ^\u001b[0m\n\u001b[1;31mSyntaxError\u001b[0m\u001b[1;31m:\u001b[0m invalid syntax\n"
     ]
    }
   ],
   "source": [
    "from __future__ import print_function, division #https://stackoverflow.com/questions/7075082/what-is-future-in-python-used-for-and-how-when-to-use-it-and-how-it-works\n",
    "from builtins import range\n",
    "import numpy as np\n",
    "import matplotlib.pyplot as plt\n",
    "\n",
    "#bandit changes to OrderQuantity\n",
    "class OrderQuantity: #object oriented\n",
    "  def __init__(self, Q): #m changed to Q m is the true mean in bandit---> here we can write it as Q for the quantity\n",
    "    self.Q = Q  #true qty\n",
    "    self.mean = 0 #estimate of the qty\n",
    "    self.N = 0\n",
    "\n",
    "  def pull(self): #simulate pulling the bandit arm ---for Q simulating a new vendor. getting random demand  \n",
    "    estimate= np.random.normal(mu, sigma, 1)\n",
    "    \n",
    "    return stockout_cost* (estimate-self.Q)\n",
    "    if self.Q < estimate  else holding_cost* (self.Q-estimate)\n",
    "        \n",
    "  def update(self, x): #latest sample receive from the bandit\n",
    "    self.N += 1\n",
    "    self.mean = (1 - 1.0/self.N)*self.mean + 1.0/self.N*x\n",
    "\n",
    "def run_experiment(m1, m2, m3, eps, N): #m_n is the differnt bandits, N is the number of times we play\n",
    "  bandits = [Bandit(m1), Bandit(m2), Bandit(m3)]\n",
    "\n",
    "  data = np.empty(N)\n",
    "  \n",
    "  for i in range(N):\n",
    "    # epsilon greedy\n",
    "    p = np.random.random()\n",
    "    if p < eps:\n",
    "      j = np.random.choice(3)\n",
    "    else:\n",
    "      j = np.argmax([b.mean for b in bandits])\n",
    "    x = bandits[j].pull()\n",
    "    bandits[j].update(x)\n",
    "\n",
    "    # for the plot\n",
    "    data[i] = x\n",
    "  cumulative_average = np.cumsum(data) / (np.arange(N) + 1)\n",
    "\n",
    "  # plot moving average ctr\n",
    "  plt.plot(cumulative_average)\n",
    "  plt.plot(np.ones(N)*m1)\n",
    "  plt.plot(np.ones(N)*m2)\n",
    "  plt.plot(np.ones(N)*m3)\n",
    "  plt.xscale('log')\n",
    "  plt.show()\n",
    "\n",
    "  for b in bandits:\n",
    "    print(b.mean)\n",
    "\n",
    "  return cumulative_average\n",
    "\n",
    "    \"\"\"\n",
    "        \n",
    "if __name__ == '__main__':\n",
    "  c_1 = run_experiment(1.0, 2.0, 3.0, 0.1, 100000)\n",
    "  c_05 = run_experiment(1.0, 2.0, 3.0, 0.05, 100000)\n",
    "  c_01 = run_experiment(1.0, 2.0, 3.0, 0.01, 100000)\n",
    "\n",
    "  # log scale plot\n",
    "  plt.plot(c_1, label='eps = 0.1')\n",
    "  plt.plot(c_05, label='eps = 0.05')\n",
    "  plt.plot(c_01, label='eps = 0.01')\n",
    "  plt.legend()\n",
    "  plt.xscale('log')\n",
    "  plt.show()\n",
    "\n",
    "\n",
    "  # linear plot\n",
    "  plt.plot(c_1, label='eps = 0.1')\n",
    "  plt.plot(c_05, label='eps = 0.05')\n",
    "  plt.plot(c_01, label='eps = 0.01')\n",
    "  plt.legend()\n",
    "  plt.show()\n",
    "\n",
    " \n",
    " \"\"\"\n"
   ]
  },
  {
   "cell_type": "code",
   "execution_count": null,
   "metadata": {},
   "outputs": [],
   "source": []
  }
 ],
 "metadata": {
  "kernelspec": {
   "display_name": "Python 3",
   "language": "python",
   "name": "python3"
  },
  "language_info": {
   "codemirror_mode": {
    "name": "ipython",
    "version": 3
   },
   "file_extension": ".py",
   "mimetype": "text/x-python",
   "name": "python",
   "nbconvert_exporter": "python",
   "pygments_lexer": "ipython3",
   "version": "3.6.5"
  }
 },
 "nbformat": 4,
 "nbformat_minor": 2
}
